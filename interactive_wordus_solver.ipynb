{
 "cells": [
  {
   "cell_type": "code",
   "execution_count": 1,
   "id": "2ac7f0fd",
   "metadata": {},
   "outputs": [],
   "source": [
    "from word_game import all_words, guess_next_word, filter_out_words, Feedback"
   ]
  },
  {
   "cell_type": "code",
   "execution_count": 21,
   "id": "5b6b4993",
   "metadata": {},
   "outputs": [
    {
     "name": "stdout",
     "output_type": "stream",
     "text": [
      "Using strategy: random\n",
      "Random Guess: slept\n",
      "Guess: slept\n"
     ]
    }
   ],
   "source": [
    "remaining_words0 = list(all_words)\n",
    "\n",
    "guess0 = guess_next_word(remaining_words0, 'random')\n",
    "print(f'Guess: {guess0}')"
   ]
  },
  {
   "cell_type": "code",
   "execution_count": 22,
   "id": "d728dc81",
   "metadata": {},
   "outputs": [
    {
     "name": "stdout",
     "output_type": "stream",
     "text": [
      "Possible Words: ['abaca', 'aback', 'abhor', 'abmho', 'abohm', 'abuzz', 'acari', 'achoo', 'acing', 'acini', 'acorn', 'acrid', 'addax', 'adman', 'admin', 'admix', 'adorn', 'adown', 'affix', 'again', 'agama', 'aggro', 'aging', 'agony', 'agora', 'agric', 'agron', 'amain', 'ambry', 'amigo', 'amino', 'amnio', 'among', 'amour', 'amuck', 'ancon', 'angry', 'anima', 'anion', 'annoy', 'arbor', 'ardor', 'argon', 'armor', 'aroid', 'aroma', 'array', 'arrow', 'audio', 'augur', 'aurar', 'auric', 'aurum', 'auxin', 'avian', 'avion', 'avoid', 'award', 'awing', 'axing', 'axiom', 'axion', 'azoic', 'baccy', 'bacon', 'baddy', 'baggy', 'bairn', 'baiza', 'bandy', 'banjo', 'baric', 'barmy', 'baron', 'bawdy', 'bayou', 'bazar', 'bhaji', 'bhang', 'biddy', 'bifid', 'bijou', 'bimah', 'bimbo', 'bingo', 'birch', 'board', 'bobby', 'bocci', 'boffo', 'boggy', 'bogon', 'boink', 'bongo', 'bonny', 'booby', 'boong', 'boozy', 'borak', 'borax', 'boric', 'boron', 'bough', 'bound', 'bovid', 'boyar', 'brach', 'braid', 'brain', 'brand', 'bravo', 'brawn', 'braxy', 'briar', 'brick', 'bring', 'brink', 'briny', 'broad', 'broch', 'brock', 'bronc', 'brood', 'brook', 'broom', 'brown', 'bruin', 'bubba', 'bucko', 'buddy', 'buffo', 'buggy', 'bunch', 'bunco', 'bunko', 'bunny', 'buran', 'burgh', 'burin', 'burka', 'burro', 'burry', 'buxom', 'bwana', 'byway', 'cabby', 'cabin', 'cabob', 'cacao', 'caird', 'cairn', 'candy', 'canna', 'canny', 'canon', 'cargo', 'carny', 'carob', 'carom', 'carry', 'cauda', 'chaff', 'chain', 'chair', 'chard', 'charm', 'charr', 'chary', 'chiao', 'chick', 'chico', 'chimb', 'china', 'ching', 'chink', 'chino', 'chirk', 'chirm', 'chirr', 'chivy', 'chock', 'choir', 'chook', 'chord', 'chron', 'chuck', 'chufa', 'chuff', 'chunk', 'churn', 'churr', 'cigar', 'cinch', 'circa', 'cirri', 'civic', 'coach', 'cobia', 'cobra', 'cocci', 'cocky', 'cocoa', 'codon', 'cogon', 'coign', 'combo', 'comdg', 'comfy', 'comic', 'comma', 'conch', 'condo', 'conga', 'conic', 'cooky', 'coomb', 'corgi', 'coria', 'corky', 'cornu', 'corny', 'couch', 'cough', 'covin', 'crack', 'crank', 'crazy', 'crick', 'croak', 'crock', 'cronk', 'crony', 'crook', 'croon', 'crowd', 'crown', 'cruck', 'crumb', 'cubby', 'cubic', 'cuddy', 'cuing', 'cumin', 'curch', 'curdy', 'curia', 'curio', 'curry', 'curvy', 'cycad', 'cymar', 'cynic', 'dacha', 'daddy', 'daffy', 'dairy', 'daman', 'damar', 'dandy', 'danio', 'daric', 'darky', 'dding', 'dhobi', 'diary', 'diazo', 'dicky', 'dinar', 'dingo', 'dingy', 'dinky', 'divan', 'divvy', 'diwan', 'dizzy', 'dobby', 'dobra', 'dobro', 'dodgy', 'doggo', 'doggy', 'dogma', 'doing', 'donga', 'donna', 'donor', 'doozy', 'dorky', 'dough', 'douma', 'dowdy', 'downy', 'dowry', 'draff', 'drain', 'drama', 'drank', 'drawn', 'drink', 'droid', 'drown', 'druid', 'drunk', 'dryad', 'duchy', 'ducky', 'dumbo', 'dummy', 'dunno', 'duomo', 'durra', 'durum', 'dwarf', 'dying', 'faddy', 'fairy', 'fakir', 'fancy', 'fango', 'fanny', 'fanon', 'faqir', 'farad', 'farci', 'farcy', 'faugh', 'fauna', 'favor', 'fichu', 'finch', 'finny', 'firry', 'fizzy', 'fjord', 'foamy', 'foggy', 'foray', 'forby', 'fordo', 'forgo', 'forum', 'found', 'frack', 'franc', 'frank', 'fraud', 'friar', 'frizz', 'frock', 'frond', 'frown', 'fuggy', 'fungi', 'fungo', 'funky', 'funny', 'furan', 'furor', 'furry', 'furzy', 'fuzzy', 'gabby', 'gadid', 'gamba', 'gamic', 'gamin', 'gamma', 'gammy', 'ganja', 'ganof', 'gaudy', 'gauzy', 'gawky', 'ghazi', 'giddy', 'ginny', 'gizmo', 'going', 'gonad', 'gonif', 'gonna', 'gonzo', 'goody', 'goofy', 'gourd', 'gowan', 'goyim', 'grain', 'grand', 'gravy', 'grimy', 'grind', 'groan', 'groin', 'groom', 'grown', 'gruff', 'guaco', 'guano', 'guard', 'guava', 'gumbo', 'gumma', 'gummy', 'gungy', 'gunky', 'gunny', 'gyron', 'hafiz', 'haiku', 'hairy', 'hajji', 'hakim', 'hammy', 'hamza', 'handy', 'hanky', 'hardy', 'harry', 'haugh', 'havoc', 'hazan', 'hijab', 'hinny', 'hoard', 'hoary', 'hobby', 'hogan', 'hoick', 'hokku', 'hokum', 'honky', 'honor', 'hooch', 'hooky', 'horah', 'horny', 'hough', 'hound', 'houri', 'howdy', 'hubby', 'huffy', 'human', 'humic', 'humid', 'humor', 'hunch', 'hunky', 'hurry', 'huzza', 'hydra', 'hydro', 'hying', 'hyoid', 'hyrax', 'iambi', 'ichor', 'icing', 'idiom', 'ihram', 'imago', 'immix', 'inbox', 'incur', 'indic', 'induc', 'infin', 'infix', 'infra', 'inion', 'inorg', 'inurn', 'iodic', 'ionic', 'irony', 'ivory', 'izard', 'jaggy', 'jammy', 'jazzy', 'jiffy', 'jihad', 'jimmy', 'jingo', 'jinni', 'jocko', 'jorum', 'jugum', 'juicy', 'jumbo', 'junco', 'junky', 'juror', 'kabob', 'kafir', 'kaiak', 'kanji', 'kanzu', 'karma', 'kauri', 'kayak', 'kazoo', 'khaki', 'khoum', 'kiang', 'kicky', 'kiddo', 'kinda', 'kinin', 'kinky', 'knack', 'knock', 'known', 'kooky', 'korma', 'krona', 'kroon', 'kudzu', 'kukri', 'macaw', 'macho', 'macro', 'madam', 'mafia', 'magic', 'magma', 'major', 'mamba', 'mambo', 'mamma', 'mammy', 'manga', 'mango', 'mangy', 'mania', 'manic', 'manky', 'manna', 'manor', 'manuf', 'march', 'maria', 'marka', 'marry', 'maund', 'maxim', 'mayor', 'micro', 'middy', 'miffy', 'mikva', 'mimic', 'mingy', 'minim', 'minor', 'mirin', 'mirza', 'mocha', 'moggy', 'mohur', 'mommy', 'monad', 'mongo', 'mooch', 'moody', 'moony', 'moray', 'moron', 'mound', 'mourn', 'mucin', 'mucky', 'mucor', 'mucro', 'muddy', 'mudra', 'muggy', 'mujik', 'mummy', 'munch', 'murky', 'muzak', 'muzzy', 'mynah', 'myrrh', 'nabob', 'nacho', 'nadir', 'naiad', 'naira', 'nakfa', 'nancy', 'nanny', 'narky', 'navar', 'navig', 'navvy', 'nawab', 'niffy', 'nigga', 'nimbi', 'nimby', 'ninja', 'ninny', 'ninon', 'nobby', 'noddy', 'nohow', 'nomad', 'nooky', 'noria', 'noway', 'nubby', 'oakum', 'occur', 'odium', 'ogham', 'ohmic', 'onion', 'orang', 'organ', 'ovary', 'ovoid', 'owing', 'oxbow', 'quack', 'quaff', 'quaky', 'quark', 'quick', 'quiff', 'quirk', 'quoin', 'rabbi', 'rabid', 'racon', 'radar', 'radii', 'radio', 'radix', 'radon', 'ragga', 'rainy', 'rajah', 'ranch', 'randy', 'rangy', 'ravin', 'rayon', 'razor', 'rhino', 'rhomb', 'rhumb', 'ridgy', 'rigid', 'rigor', 'roach', 'robin', 'rocky', 'roman', 'rondo', 'rooky', 'roomy', 'rough', 'round', 'rowan', 'rowdy', 'ruddy', 'rugby', 'ruing', 'rumba', 'rummy', 'rumor', 'runic', 'runny', 'umbra', 'umiak', 'unarm', 'unbar', 'unbid', 'undid', 'unfix', 'unify', 'union', 'unjam', 'unman', 'unrig', 'unwon', 'urban', 'vanda', 'varia', 'varix', 'viand', 'vicar', 'vigor', 'vinic', 'virga', 'vivid', 'vocab', 'vodka', 'vouch', 'vying', 'wacko', 'wacky', 'wagon', 'wahoo', 'wanna', 'wazoo', 'whack', 'wharf', 'which', 'whiff', 'whiny', 'whizz', 'widow', 'winch', 'windy', 'wirra', 'woman', 'wonky', 'woody', 'woozy', 'wordy', 'wormy', 'worry', 'wound', 'wrack', 'wring', 'wrong', 'wrung', 'xcvii', 'yahoo', 'yakka', 'yobbo', 'yogic', 'young', 'yucca', 'yucky', 'yukky', 'yummy', 'zamia', 'zayin', 'zingy', 'zooid', 'zorch']\n",
      "Using strategy: high_frequency_remaining\n",
      "Best Guess: noria (Frequency: 1798)\n",
      "Guess: noria\n"
     ]
    }
   ],
   "source": [
    "feedback = {0: (guess0[0], Feedback.INCORRECT), \n",
    "            1: (guess0[1], Feedback.INCORRECT), \n",
    "            2: (guess0[2], Feedback.INCORRECT),\n",
    "            3: (guess0[3], Feedback.INCORRECT), \n",
    "            4: (guess0[4], Feedback.INCORRECT)}\n",
    "\n",
    "remaining_words1 = filter_out_words(remaining_words0, feedback)\n",
    "print(f'Possible Words: {remaining_words1}')\n",
    "guess1 = guess_next_word(remaining_words1, 'high_frequency_remaining')\n",
    "print(f'Guess: {guess1}')"
   ]
  },
  {
   "cell_type": "code",
   "execution_count": 23,
   "id": "d9a39bd9",
   "metadata": {},
   "outputs": [
    {
     "name": "stdout",
     "output_type": "stream",
     "text": [
      "Possible Words: ['ching', 'chink', 'cinch', 'cuing', 'dding', 'dingy', 'dinky', 'dying', 'finch', 'finny', 'fungi', 'ginny', 'hinny', 'hying', 'icing', 'induc', 'jinni', 'kinky', 'mingy', 'unify', 'vying', 'whiny', 'winch', 'windy', 'zingy']\n",
      "Using strategy: high_frequency_remaining\n",
      "Best Guess: hying (Frequency: 90)\n",
      "Guess: hying\n"
     ]
    }
   ],
   "source": [
    "feedback = {0: (guess1[0], Feedback.WRONG_PLACE), \n",
    "            1: (guess1[1], Feedback.INCORRECT), \n",
    "            2: (guess1[2], Feedback.INCORRECT), \n",
    "            3: (guess1[3], Feedback.WRONG_PLACE), \n",
    "            4: (guess1[4], Feedback.INCORRECT)}\n",
    "\n",
    "remaining_words2 = filter_out_words(remaining_words1, feedback)\n",
    "print(f'Possible Words: {remaining_words2}')\n",
    "guess2 = guess_next_word(remaining_words2, 'high_frequency_remaining')\n",
    "print(f'Guess: {guess2}')"
   ]
  },
  {
   "cell_type": "code",
   "execution_count": 24,
   "id": "acb3d7b4",
   "metadata": {},
   "outputs": [
    {
     "name": "stdout",
     "output_type": "stream",
     "text": [
      "Possible Words: ['cinch', 'finch', 'winch']\n",
      "Using strategy: high_frequency_remaining\n",
      "Best Guess: finch (Frequency: 14)\n",
      "Guess: finch\n"
     ]
    }
   ],
   "source": [
    "feedback = {0: (guess2[0], Feedback.WRONG_PLACE), \n",
    "            1: (guess2[1], Feedback.INCORRECT), \n",
    "            2: (guess2[2], Feedback.WRONG_PLACE), \n",
    "            3: (guess2[3], Feedback.WRONG_PLACE), \n",
    "            4: (guess2[4], Feedback.INCORRECT)}\n",
    "\n",
    "remaining_words3 = filter_out_words(remaining_words2, feedback)\n",
    "print(f'Possible Words: {remaining_words3}')\n",
    "guess3 = guess_next_word(remaining_words3, 'high_frequency_remaining')\n",
    "print(f'Guess: {guess3}')"
   ]
  },
  {
   "cell_type": "code",
   "execution_count": 13,
   "id": "3a7b17b6",
   "metadata": {},
   "outputs": [
    {
     "name": "stdout",
     "output_type": "stream",
     "text": [
      "Possible Words: ['cross', 'dross']\n",
      "Using strategy: high_frequency_remaining\n",
      "Best Guess: cross (Frequency: 9)\n",
      "Guess: cross\n"
     ]
    }
   ],
   "source": [
    "feedback = {0: (guess3[0], Feedback.INCORRECT), \n",
    "            1: (guess3[1], Feedback.CORRECT), \n",
    "            2: (guess3[2], Feedback.CORRECT), \n",
    "            3: (guess3[3], Feedback.INCORRECT), \n",
    "            4: (guess3[4], Feedback.CORRECT)}\n",
    "\n",
    "remaining_words4 = filter_out_words(remaining_words3, feedback)\n",
    "print(f'Possible Words: {remaining_words4}')\n",
    "guess4 = guess_next_word(remaining_words4, 'high_frequency_remaining')\n",
    "print(f'Guess: {guess4}')"
   ]
  },
  {
   "cell_type": "code",
   "execution_count": null,
   "id": "18b37397",
   "metadata": {},
   "outputs": [],
   "source": [
    "feedback = {0: (guess4[0], Feedback.CORRECT), \n",
    "            1: (guess4[1], Feedback.CORRECT), \n",
    "            2: (guess4[2], Feedback.INCORRECT), \n",
    "            3: (guess4[3], Feedback.CORRECT), \n",
    "            4: (guess4[4], Feedback.CORRECT)}\n",
    "\n",
    "remaining_words5 = filter_out_words(remaining_words4, feedback)\n",
    "print(f'Possible Words: {remaining_words5}')\n",
    "guess5 = guess_next_word(remaining_words5, 'high_frequency_remaining')\n",
    "print(f'Guess: {guess5}')"
   ]
  }
 ],
 "metadata": {
  "kernelspec": {
   "display_name": "Python 3",
   "language": "python",
   "name": "python3"
  },
  "language_info": {
   "codemirror_mode": {
    "name": "ipython",
    "version": 3
   },
   "file_extension": ".py",
   "mimetype": "text/x-python",
   "name": "python",
   "nbconvert_exporter": "python",
   "pygments_lexer": "ipython3",
   "version": "3.9.2"
  }
 },
 "nbformat": 4,
 "nbformat_minor": 5
}
