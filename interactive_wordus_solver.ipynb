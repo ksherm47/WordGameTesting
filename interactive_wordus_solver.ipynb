{
 "cells": [
  {
   "cell_type": "code",
   "execution_count": 5,
   "id": "e194c8b1",
   "metadata": {},
   "outputs": [],
   "source": [
    "from word_game import all_words, guess_next_word, filter_out_words, Feedback"
   ]
  },
  {
   "cell_type": "code",
   "execution_count": 14,
   "id": "7118abd8",
   "metadata": {},
   "outputs": [
    {
     "name": "stdout",
     "output_type": "stream",
     "text": [
      "Using strategy: most_vowels\n",
      "Best Guess: adieu (Number of Vowels: 4)\n",
      "adieu\n"
     ]
    }
   ],
   "source": [
    "remaining_words0 = list(all_words)\n",
    "\n",
    "guess0 = guess_next_word(remaining_words0, 'most_vowels')\n",
    "print(f'Guess: {guess0}')"
   ]
  },
  {
   "cell_type": "code",
   "execution_count": 29,
   "id": "55f403a4",
   "metadata": {},
   "outputs": [
    {
     "name": "stdout",
     "output_type": "stream",
     "text": [
      "Using strategy: high_frequency\n",
      "Best Guess: lours (Frequency: 10792)\n",
      "Guess: lours\n"
     ]
    }
   ],
   "source": [
    "feedback = {0: (guess0[0], Feedback.INCORRECT), \n",
    "            1: (guess0[1], Feedback.INCORRECT), \n",
    "            2: (guess0[2], Feedback.INCORRECT), \n",
    "            3: (guess0[3], Feedback.INCORRECT), \n",
    "            4: (guess0[4], Feedback.WRONG_PLACE)}\n",
    "\n",
    "remaining_words1 = filter_out_words(remaining_words0, feedback)\n",
    "guess1 = guess_next_word(remaining_words1, 'high_frequency')\n",
    "print(f'Guess: {guess1}')"
   ]
  },
  {
   "cell_type": "code",
   "execution_count": 30,
   "id": "6d4bbe33",
   "metadata": {},
   "outputs": [
    {
     "name": "stdout",
     "output_type": "stream",
     "text": [
      "Using strategy: high_frequency\n",
      "Best Guess: musty (Frequency: 8279)\n",
      "Guess: musty\n"
     ]
    }
   ],
   "source": [
    "feedback = {0: (guess1[0], Feedback.INCORRECT), \n",
    "            1: (guess1[1], Feedback.INCORRECT), \n",
    "            2: (guess1[2], Feedback.WRONG_PLACE), \n",
    "            3: (guess1[3], Feedback.INCORRECT), \n",
    "            4: (guess1[4], Feedback.WRONG_PLACE)}\n",
    "\n",
    "remaining_words2 = filter_out_words(remaining_words1, feedback)\n",
    "guess2 = guess_next_word(remaining_words2, 'high_frequency')\n",
    "print(f'Guess: {guess2}')"
   ]
  },
  {
   "cell_type": "code",
   "execution_count": 31,
   "id": "ff7094ff",
   "metadata": {},
   "outputs": [
    {
     "name": "stdout",
     "output_type": "stream",
     "text": [
      "Using strategy: high_frequency\n",
      "Best Guess: cushy (Frequency: 7614)\n",
      "Guess: cushy\n"
     ]
    }
   ],
   "source": [
    "feedback = {0: (guess2[0], Feedback.INCORRECT), \n",
    "            1: (guess2[1], Feedback.CORRECT), \n",
    "            2: (guess2[2], Feedback.CORRECT), \n",
    "            3: (guess2[3], Feedback.INCORRECT), \n",
    "            4: (guess2[4], Feedback.CORRECT)}\n",
    "\n",
    "remaining_words3 = filter_out_words(remaining_words2, feedback)\n",
    "guess3 = guess_next_word(remaining_words3, 'high_frequency')\n",
    "print(f'Guess: {guess3}')"
   ]
  },
  {
   "cell_type": "code",
   "execution_count": 32,
   "id": "1ec17bb1",
   "metadata": {},
   "outputs": [
    {
     "name": "stdout",
     "output_type": "stream",
     "text": [
      "Using strategy: high_frequency\n",
      "Best Guess: husky (Frequency: 7130)\n",
      "Guess: husky\n"
     ]
    }
   ],
   "source": [
    "feedback = {0: (guess3[0], Feedback.INCORRECT), \n",
    "            1: (guess3[1], Feedback.CORRECT), \n",
    "            2: (guess3[2], Feedback.CORRECT), \n",
    "            3: (guess3[3], Feedback.WRONG_PLACE), \n",
    "            4: (guess3[4], Feedback.CORRECT)}\n",
    "\n",
    "remaining_words4 = filter_out_words(remaining_words3, feedback)\n",
    "guess4 = guess_next_word(remaining_words4, 'high_frequency')\n",
    "print(f'Guess: {guess4}')"
   ]
  },
  {
   "cell_type": "code",
   "execution_count": 27,
   "id": "0468e7f2",
   "metadata": {},
   "outputs": [
    {
     "name": "stdout",
     "output_type": "stream",
     "text": [
      "Using strategy: high_frequency\n",
      "Best Guess: shame (Frequency: 11510)\n",
      "Guess: shame\n"
     ]
    }
   ],
   "source": [
    "feedback = {0: (guess4[0], Feedback.CORRECT), \n",
    "            1: (guess4[1], Feedback.INCORRECT), \n",
    "            2: (guess4[2], Feedback.CORRECT), \n",
    "            3: (guess4[3], Feedback.INCORRECT), \n",
    "            4: (guess4[4], Feedback.CORRECT)}\n",
    "\n",
    "remaining_words5 = filter_out_words(remaining_words4, feedback)\n",
    "guess5 = guess_next_word(remaining_words5, 'high_frequency')\n",
    "print(f'Guess: {guess5}')"
   ]
  }
 ],
 "metadata": {
  "kernelspec": {
   "display_name": "Python 3",
   "language": "python",
   "name": "python3"
  },
  "language_info": {
   "codemirror_mode": {
    "name": "ipython",
    "version": 3
   },
   "file_extension": ".py",
   "mimetype": "text/x-python",
   "name": "python",
   "nbconvert_exporter": "python",
   "pygments_lexer": "ipython3",
   "version": "3.9.2"
  }
 },
 "nbformat": 4,
 "nbformat_minor": 5
}
